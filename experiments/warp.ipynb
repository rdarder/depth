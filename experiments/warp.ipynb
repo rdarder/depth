{
 "cells": [
  {
   "metadata": {
    "ExecuteTime": {
     "end_time": "2025-05-23T20:33:39.755536Z",
     "start_time": "2025-05-23T20:33:38.345343Z"
    }
   },
   "cell_type": "code",
   "source": [
    "from typing import Optional\n",
    "import matplotlib.pyplot as plt\n",
    "\n",
    "\n",
    "def display_4d_array(array):\n",
    "    R, C, _, _ = array.shape\n",
    "    params = dict()\n",
    "    for i, row in enumerate(array):\n",
    "        for j, img in enumerate(row):\n",
    "            params[f\"{i}_{j}\"] = img\n",
    "    display_arrays(cols=C, rows=R, **params)\n",
    "\n",
    "\n",
    "def display_arrays(rows: int = 1, cols: Optional[int] = None, **images_kwargs):\n",
    "    \"\"\"\n",
    "    Displays multiple image arrays using Matplotlib in a grid layout.\n",
    "\n",
    "    Args:\n",
    "        rows: The number of rows in the subplot grid.\n",
    "        cols: The number of columns in the subplot grid.\n",
    "        **images_kwargs: Keyword arguments where each key is the title\n",
    "                         and each value is a 2D numpy/jax array (image).\n",
    "    \"\"\"\n",
    "    num_images = len(images_kwargs)\n",
    "    if num_images == 0:\n",
    "        print(\"No images provided to display.\")\n",
    "        return\n",
    "\n",
    "    if cols is None:\n",
    "        cols = math.ceil(num_images / rows)\n",
    "    if rows * cols < num_images:\n",
    "        print(\n",
    "            f\"Warning: Not enough subplots ({rows}x{cols}={rows * cols}) for {num_images} images. \"\n",
    "            f\"Some images will not be displayed.\")\n",
    "        # Optionally, you could adjust rows/cols or raise an error\n",
    "\n",
    "    fig, axes = plt.subplots(rows, cols, figsize=(cols * 4, rows * 4))  # Adjust figsize as needed\n",
    "\n",
    "    # If rows=1 and cols=1, axes is not an array but a single AxesSubplot object.\n",
    "    # If rows=1 or cols=1, axes is a 1D array.\n",
    "    # Otherwise, axes is a 2D array.\n",
    "    # We flatten it for easier iteration.\n",
    "    if isinstance(axes, plt.Axes):  # Single subplot\n",
    "        axes_flat = [axes]\n",
    "    else:\n",
    "        axes_flat = axes.flatten()\n",
    "\n",
    "    for i, (title, img_array) in enumerate(images_kwargs.items()):\n",
    "        if i >= len(axes_flat):\n",
    "            break  # Stop if we run out of subplots\n",
    "\n",
    "        ax = axes_flat[i]\n",
    "        # Convert JAX array to NumPy array if it's not already, for matplotlib\n",
    "        # Matplotlib usually handles JAX arrays fine, but explicit conversion is safer.\n",
    "        img_to_plot = np.asarray(img_array)\n",
    "\n",
    "        im = ax.imshow(img_to_plot, cmap='Greys', vmin=0, vmax=1)  # You can change the colormap\n",
    "        ax.set_title(title)\n",
    "        ax.axis('off')  # Hide axes ticks and labels\n",
    "\n",
    "    # Hide any unused subplots\n",
    "    for j in range(num_images, len(axes_flat)):\n",
    "        axes_flat[j].axis('off')\n",
    "\n",
    "    plt.tight_layout()\n",
    "    plt.show()\n"
   ],
   "id": "6904b9ad1ca8e152",
   "outputs": [],
   "execution_count": 1
  },
  {
   "metadata": {
    "ExecuteTime": {
     "end_time": "2025-05-23T20:33:45.260977Z",
     "start_time": "2025-05-23T20:33:42.653231Z"
    }
   },
   "cell_type": "code",
   "source": [
    "import plotly.express as px\n",
    "import jax.numpy as jnp\n",
    "import jax\n",
    "from flax import nnx\n",
    "import random\n",
    "\n",
    "# Example: Create a sample NumPy matrix\n",
    "rngs = nnx.Rngs(12)\n",
    "\n",
    "PATCH_COARSE_HEIGHT = 5\n",
    "PATCH_COARSE_WIDTH = 5\n",
    "PATCH_COARSE_SIZE = (PATCH_COARSE_HEIGHT, PATCH_COARSE_WIDTH)\n",
    "\n",
    "UP_SAMPLE_RATIO = 2\n",
    "UP_SAMPLE_SIZE = (UP_SAMPLE_RATIO, UP_SAMPLE_RATIO)\n",
    "\n",
    "BORDER_COARSE_EXTENT = 1\n",
    "BORDER_FINE_EXTENT = BORDER_COARSE_EXTENT * UP_SAMPLE_RATIO\n",
    "BORDER_FINE_SIZE = (BORDER_FINE_EXTENT, BORDER_FINE_EXTENT)\n",
    "\n",
    "PATCH_FINE_HEIGHT = PATCH_COARSE_HEIGHT * UP_SAMPLE_RATIO\n",
    "PATCH_FINE_WIDTH = PATCH_COARSE_WIDTH * UP_SAMPLE_RATIO\n",
    "PATCH_FINE_SIZE = (PATCH_FINE_HEIGHT, PATCH_FINE_WIDTH)\n",
    "\n",
    "CANVAS_FINE_HEIGHT = PATCH_FINE_HEIGHT + 2 * BORDER_FINE_EXTENT\n",
    "CANVAS_FINE_WIDTH = PATCH_FINE_WIDTH + 2 * BORDER_FINE_EXTENT\n",
    "CANVAS_FINE_SIZE = (CANVAS_FINE_HEIGHT, CANVAS_FINE_WIDTH)\n",
    "\n",
    "canvas_fine = jax.random.beta(rngs.image(), 1.0, 1.0, CANVAS_FINE_SIZE)\n",
    "\n",
    "# matrix = np.random.rand(30, 30)\n",
    "\n",
    "# Plot the matrix as an image using px.imshow\n",
    "\n",
    "display_arrays(fine_canvas=canvas_fine)\n",
    "print(canvas_fine.shape)\n"
   ],
   "id": "63103fce11246edd",
   "outputs": [
    {
     "data": {
      "text/plain": [
       "<Figure size 400x400 with 1 Axes>"
      ],
      "image/png": "[encoded data removed]"
     },
     "metadata": {},
     "output_type": "display_data"
    },
    {
     "name": "stdout",
     "output_type": "stream",
     "text": [
      "(14, 14)\n"
     ]
    }
   ],
   "execution_count": 2
  },
  {
   "metadata": {
    "ExecuteTime": {
     "end_time": "2025-05-23T20:33:47.261706Z",
     "start_time": "2025-05-23T20:33:47.119422Z"
    }
   },
   "cell_type": "code",
   "source": [
    "def downsample_via_reshape(image_2d, block_shape):\n",
    "    H, W = image_2d.shape\n",
    "    bh, bw = block_shape\n",
    "    H_new = (H // bh) * bh\n",
    "    W_new = (W // bw) * bh\n",
    "\n",
    "    if H_new != H or W_new != W:\n",
    "        print(\n",
    "            f\"Warning: Image dimensions ({H}, {W}) not perfectly divisible by block_shape ({bh}, {bw}). Cropped to ({H_new}, {W_new}).\")\n",
    "\n",
    "    image_cropped = image_2d[:H_new, :W_new]\n",
    "    reshaped = image_cropped.reshape(H_new // bh, bh, W_new // bw, bw)\n",
    "    transposed = jnp.transpose(reshaped, (0, 2, 1, 3))\n",
    "    downsampled = jnp.mean(transposed, axis=(2, 3))\n",
    "    return downsampled\n",
    "\n",
    "\n",
    "coarse_canvas = downsample_via_reshape(canvas_fine, UP_SAMPLE_SIZE)\n",
    "display_arrays(coarse_canvas=coarse_canvas)\n",
    "print(coarse_canvas.shape)\n"
   ],
   "id": "8e14c96fa9cf01cc",
   "outputs": [
    {
     "data": {
      "text/plain": [
       "<Figure size 400x400 with 1 Axes>"
      ],
      "image/png": "[encoded data removed]"
     },
     "metadata": {},
     "output_type": "display_data"
    },
    {
     "name": "stdout",
     "output_type": "stream",
     "text": [
      "(7, 7)\n"
     ]
    }
   ],
   "execution_count": 3
  },
  {
   "metadata": {
    "ExecuteTime": {
     "end_time": "2025-05-23T20:33:54.130583Z",
     "start_time": "2025-05-23T20:33:53.781827Z"
    }
   },
   "cell_type": "code",
   "source": [
    "\n",
    "# target_fine_offset_int = jax.random.randint(rngs.target(), (2,), -BORDER_FINE_EXTENT,\n",
    "#                                             BORDER_FINE_EXTENT)\n",
    "\n",
    "target_fine_offset_int = jnp.array([1, 0])\n",
    "print(target_fine_offset_int)\n",
    "target_fine_offset_float = target_fine_offset_int / BORDER_FINE_EXTENT\n",
    "print(target_fine_offset_float)\n",
    "\n",
    "\n",
    "def get_shifted_patch(canvas: jax.Array, shift_int: jax.Array) -> jax.Array:\n",
    "    start = jnp.array(BORDER_FINE_SIZE) - shift_int\n",
    "    end = start + jnp.array(PATCH_FINE_SIZE)\n",
    "    print(start, end)\n",
    "    patch = canvas[start[0]:end[0], start[1]:end[1]]\n",
    "    return patch\n",
    "\n",
    "\n",
    "target_fine = get_shifted_patch(canvas_fine, target_fine_offset_int)\n",
    "target_coarse = downsample_via_reshape(target_fine, UP_SAMPLE_SIZE)\n",
    "# patch_fine = get_shifted_patch(canvas_fine, jnp.array([0, 0]))\n",
    "# patch_coarse = downsample_via_reshape(patch_fine, UP_SAMPLE_SIZE)\n",
    "display_arrays(target_fine=target_fine, target_coarse_patch=target_coarse)\n"
   ],
   "id": "5c42479c364e6135",
   "outputs": [
    {
     "name": "stdout",
     "output_type": "stream",
     "text": [
      "[1 0]\n",
      "[0.5 0. ]\n",
      "[1 2] [11 12]\n"
     ]
    },
    {
     "data": {
      "text/plain": [
       "<Figure size 800x400 with 2 Axes>"
      ],
      "image/png": "[encoded data removed]"
     },
     "metadata": {},
     "output_type": "display_data"
    }
   ],
   "execution_count": 4
  },
  {
   "metadata": {
    "ExecuteTime": {
     "end_time": "2025-05-23T20:34:41.437566Z",
     "start_time": "2025-05-23T20:34:40.913410Z"
    }
   },
   "cell_type": "code",
   "source": [
    "import math\n",
    "from IPython.display import Image, display\n",
    "\n",
    "\n",
    "def get_array_slice(source: jax.Array, dx: int, dy: int) -> jax.Array:\n",
    "    B = BORDER_COARSE_EXTENT\n",
    "    H = PATCH_COARSE_HEIGHT\n",
    "    W = PATCH_COARSE_WIDTH\n",
    "    return source[B + dy:B + H + dy, B + dx:B + W + dx]\n",
    "\n",
    "    # return source[slice_array[0,0]:slice_array[1,0], slice_array[0,1]:slice_array[1,1]]\n",
    "\n",
    "\n",
    "def window_0_p(source: jax.Array) -> jax.Array:\n",
    "    return get_array_slice(source, 0, 1)\n",
    "\n",
    "\n",
    "def window_0_n(source: jax.Array) -> jax.Array:\n",
    "    return get_array_slice(source, 0, -1)\n",
    "\n",
    "\n",
    "def window_p_0(source: jax.Array) -> jax.Array:\n",
    "    return get_array_slice(source, 1, 0)\n",
    "\n",
    "\n",
    "def window_n_0(source: jax.Array) -> jax.Array:\n",
    "    return get_array_slice(source, 0, -1)\n",
    "\n",
    "\n",
    "def window_p_p(source: jax.Array) -> jax.Array:\n",
    "    return get_array_slice(source, 1, 1)\n",
    "\n",
    "\n",
    "def window_n_n(source: jax.Array) -> jax.Array:\n",
    "    return get_array_slice(source, -1, -1)\n",
    "\n",
    "\n",
    "def window_p_n(source: jax.Array) -> jax.Array:\n",
    "    return get_array_slice(source, 1, -1)\n",
    "\n",
    "\n",
    "def window_n_p(source: jax.Array) -> jax.Array:\n",
    "    return get_array_slice(source, -1, 1)\n",
    "\n",
    "\n",
    "def make_4_shifted_patches(canvas: jax.Array, shifts: jax.Array) -> jax.Array:\n",
    "    CH, CW = canvas.shape\n",
    "    assert CH == PATCH_COARSE_HEIGHT + 2\n",
    "    assert CW == PATCH_COARSE_WIDTH + 2\n",
    "\n",
    "    s0 = get_array_slice(canvas, 0, 0)\n",
    "    offset_y, offset_x = jnp.where(shifts > 0, jnp.ceil(shifts), jnp.floor(shifts)).astype(\n",
    "        jnp.int32)\n",
    "    sy = jax.lax.cond(offset_y > 0, window_p_0, window_n_0, canvas)\n",
    "    sx = jax.lax.cond(offset_x > 0, window_0_p, window_0_n, canvas)\n",
    "    sxy = jax.lax.cond(\n",
    "        offset_x < 0,\n",
    "        lambda s: jax.lax.cond(offset_y < 0, window_n_n, window_n_p, s),\n",
    "        lambda s: jax.lax.cond(offset_y < 0, window_p_n, window_p_p, s),\n",
    "        canvas\n",
    "    )\n",
    "    patches = [[s0, sx], [sy, sxy]]\n",
    "    return jnp.array(patches)\n",
    "\n",
    "\n",
    "@jax.jit\n",
    "def translation_loss(canvas: jax.Array, target: jax.Array, shifts: jax.Array) -> jax.Array:\n",
    "    shifted = make_4_shifted_patches(canvas, shifts)\n",
    "    coarse_losses = jnp.abs(target - shifted)\n",
    "    losses_sums = jnp.sum(coarse_losses, axis=(2, 3))\n",
    "    dy, dx = shifts\n",
    "    weights = jnp.array([\n",
    "        [(1 - dy) * (1 - dx), (1 - dy) * dx],\n",
    "        [dy * (1 - dx), dy * dx]\n",
    "    ])\n",
    "    return jnp.sum(losses_sums * weights)\n",
    "\n",
    "\n",
    "# shift = jnp.array([-0.1, 0.2])\n",
    "# translation_loss(coarse_canvas, patch)\n",
    "# print(coarse_canvas.shape)\n",
    "# print(PATCH_COARSE_WIDTH)\n",
    "# shifted_patches = make_4_shifted_patches(coarse_canvas, shift)\n",
    "\n",
    "# shift_grad = jax.grad(make_4_shifted_patches, argnums=1)\n",
    "# shift_grad(coarse_canvas, shift)\n",
    "shifts = jnp.array([0.9, 0.6])\n",
    "shifted_patches = make_4_shifted_patches(coarse_canvas, shifts)\n",
    "# display_4d_array(shifted_patches)\n",
    "grad_translation_loss = jax.grad(translation_loss, argnums=2)\n",
    "# translation_loss(coarse_canvas, target_coarse, jnp.array([0.5, 0.2]))\n",
    "print(target_fine_offset_float)\n",
    "# grad_translation_loss(coarse_canvas, target_coarse, jnp.array([-0.35, 0.375]))\n",
    "#[ 0.75 -0.5 ]\n",
    "# print(translation_loss(coarse_canvas, target_coarse, jnp.array([-1, 0.9])))\n",
    "\n",
    "def iter_solve():\n",
    "    aim = jnp.array([1e-5, 1e-5])\n",
    "    decay = 0.99\n",
    "    rate = 0.2\n",
    "    for i in range(100):\n",
    "        rate = rate * decay\n",
    "        loss = translation_loss(coarse_canvas, target_coarse, aim)\n",
    "        grad = grad_translation_loss(coarse_canvas, target_coarse, aim)\n",
    "        aim_new = jnp.clip(aim - rate * grad, -1.0, 1.0)\n",
    "        print(f\"aim: {aim} -> (loss: {loss}, grad: {grad})\\n\\t rate: {rate:.3f}, aim => {aim_new}\")\n",
    "        aim = aim_new\n",
    "\n",
    "translation_loss(coarse_canvas, target_coarse, jnp.array([0.99, -0.99]))\n",
    "display_arrays(coarse_canvas=coarse_canvas, target_coarse=target_coarse)\n"
   ],
   "id": "53fc41080fba0f0",
   "outputs": [
    {
     "name": "stdout",
     "output_type": "stream",
     "text": [
      "[0.5 0. ]\n"
     ]
    },
    {
     "data": {
      "text/plain": [
       "<Figure size 800x400 with 2 Axes>"
      ],
      "image/png": "[encoded data removed]"
     },
     "metadata": {},
     "output_type": "display_data"
    }
   ],
   "execution_count": 6
  },
  {
   "metadata": {
    "ExecuteTime": {
     "end_time": "2025-05-23T20:30:10.183734Z",
     "start_time": "2025-05-23T20:30:09.827209Z"
    }
   },
   "cell_type": "code",
   "source": "iter_solve()",
   "id": "e332aeb3a92da262",
   "outputs": [
    {
     "name": "stdout",
     "output_type": "stream",
     "text": [
      "aim: [1.e-05 1.e-05] -> (loss: 2.3704864978790283, grad: [1.788659  0.8126148])\n",
      "\t rate: 0.198, aim => [-0.35414445 -0.16088773]\n",
      "aim: [-0.35414445 -0.16088773] -> (loss: 2.6835217475891113, grad: [-0.73807913 -1.238849  ])\n",
      "\t rate: 0.196, aim => [-0.20946617  0.08195147]\n",
      "aim: [-0.20946617  0.08195147] -> (loss: 2.485567092895508, grad: [-0.23159297  0.58363086])\n",
      "\t rate: 0.194, aim => [-0.16452329 -0.03130782]\n",
      "aim: [-0.16452329 -0.03130782] -> (loss: 2.4467055797576904, grad: [-0.40230963 -0.74749976])\n",
      "\t rate: 0.192, aim => [-0.08723189  0.11230122]\n",
      "aim: [-0.08723189  0.11230122] -> (loss: 2.479027032852173, grad: [-0.198414   0.7172601])\n",
      "\t rate: 0.190, aim => [-0.04949394 -0.02412022]\n",
      "aim: [-0.04949394 -0.02412022] -> (loss: 2.3971974849700928, grad: [-0.38368502 -0.44943377])\n",
      "\t rate: 0.188, aim => [0.02275242 0.06050638]\n",
      "aim: [0.02275242 0.06050638] -> (loss: 2.459030866622925, grad: [1.7317407 0.7912176])\n",
      "\t rate: 0.186, aim => [-0.30006665 -0.08698692]\n",
      "aim: [-0.30006665 -0.08698692] -> (loss: 2.5624115467071533, grad: [-0.54658633 -1.0987219 ])\n",
      "\t rate: 0.185, aim => [-0.19919473  0.11578103]\n",
      "aim: [-0.19919473  0.11578103] -> (loss: 2.503312110900879, grad: [-0.1946098  0.5948597])\n",
      "\t rate: 0.183, aim => [-0.16363885  0.00709811]\n",
      "aim: [-0.16363885  0.00709811] -> (loss: 2.4275169372558594, grad: [-0.3134248  0.6337304])\n",
      "\t rate: 0.181, aim => [-0.10694769 -0.10752878]\n",
      "aim: [-0.10694769 -0.10752878] -> (loss: 2.4691460132598877, grad: [-0.5998146 -0.598309 ])\n",
      "\t rate: 0.179, aim => [ 0.0004597  -0.00039099]\n",
      "aim: [ 0.0004597  -0.00039099] -> (loss: 2.371408462524414, grad: [ 1.7884413  -0.32091802])\n",
      "\t rate: 0.177, aim => [-0.31658974  0.05650038]\n",
      "aim: [-0.31658974  0.05650038] -> (loss: 2.498502731323242, grad: [-0.2594169   0.46652085])\n",
      "\t rate: 0.176, aim => [-0.27106097 -0.02537599]\n",
      "aim: [-0.27106097 -0.02537599] -> (loss: 2.483494758605957, grad: [-0.386939  -1.0235618])\n",
      "\t rate: 0.174, aim => [-0.20383064  0.15246703]\n",
      "aim: [-0.20383064  0.15246703] -> (loss: 2.5258514881134033, grad: [-0.15450373  0.5897918 ])\n",
      "\t rate: 0.172, aim => [-0.1772542   0.05101596]\n",
      "aim: [-0.1772542   0.05101596] -> (loss: 2.458962917327881, grad: [-0.2654126   0.61884576])\n",
      "\t rate: 0.170, aim => [-0.13205668 -0.05436825]\n",
      "aim: [-0.13205668 -0.05436825] -> (loss: 2.448941707611084, grad: [-0.4620642 -0.6633718])\n",
      "\t rate: 0.169, aim => [-0.05415791  0.0574687 ]\n",
      "aim: [-0.05415791  0.0574687 ] -> (loss: 2.431152820587158, grad: [-0.25835818  0.75341755])\n",
      "\t rate: 0.167, aim => [-0.01103722 -0.06827876]\n",
      "aim: [-0.01103722 -0.06827876] -> (loss: 2.397888422012329, grad: [-0.4981094 -0.3497841])\n",
      "\t rate: 0.165, aim => [ 0.07126726 -0.01048263]\n",
      "aim: [ 0.07126726 -0.01048263] -> (loss: 2.500868082046509, grad: [ 1.7825916  -0.27987128])\n",
      "\t rate: 0.164, aim => [-0.22033153  0.0352991 ]\n",
      "aim: [-0.22033153  0.0352991 ] -> (loss: 2.4614098072052, grad: [-0.2825944   0.57175267])\n",
      "\t rate: 0.162, aim => [-0.17456663 -0.05729371]\n",
      "aim: [-0.17456663 -0.05729371] -> (loss: 2.470846652984619, grad: [-0.46964484 -0.7735242 ])\n",
      "\t rate: 0.160, aim => [-0.09927029  0.06672244]\n",
      "aim: [-0.09927029  0.06672244] -> (loss: 2.449324131011963, grad: [-0.24824192  0.7040997 ])\n",
      "\t rate: 0.159, aim => [-0.05986862 -0.04503428]\n",
      "aim: [-0.05986862 -0.04503428] -> (loss: 2.411139965057373, grad: [-0.43787774 -0.476317  ])\n",
      "\t rate: 0.157, aim => [0.00893757 0.02981208]\n",
      "aim: [0.00893757 0.02981208] -> (loss: 2.4104223251342773, grad: [1.7606194 0.8042153])\n",
      "\t rate: 0.156, aim => [-0.2649519  -0.09529509]\n",
      "aim: [-0.2649519  -0.09529509] -> (loss: 2.55159068107605, grad: [-0.5681147 -1.0077319])\n",
      "\t rate: 0.154, aim => [-0.17745735  0.05990432]\n",
      "aim: [-0.17745735  0.05990432] -> (loss: 2.464515209197998, grad: [-0.25569564  0.6186236 ])\n",
      "\t rate: 0.152, aim => [-0.13847181 -0.03441633]\n",
      "aim: [-0.13847181 -0.03441633] -> (loss: 2.4383387565612793, grad: [-0.4103646  -0.67999476])\n",
      "\t rate: 0.151, aim => [-0.0765298   0.06822471]\n",
      "aim: [-0.0765298   0.06822471] -> (loss: 2.4447736740112305, grad: [-0.2465995  0.7289601])\n",
      "\t rate: 0.149, aim => [-0.03967935 -0.04070702]\n",
      "aim: [-0.03967935 -0.04070702] -> (loss: 2.4004642963409424, grad: [-0.4266652  -0.42400208])\n",
      "\t rate: 0.148, aim => [0.02344153 0.02201988]\n",
      "aim: [0.02344153 0.02201988] -> (loss: 2.429797887802124, grad: [1.7679508  0.79056907])\n",
      "\t rate: 0.146, aim => [-0.23549372 -0.0937674 ]\n",
      "aim: [-0.23549372 -0.0937674 ] -> (loss: 2.5334322452545166, grad: [-0.5641558 -0.9313994])\n",
      "\t rate: 0.145, aim => [-0.15369335  0.04128184]\n",
      "aim: [-0.15369335  0.04128184] -> (loss: 2.446434497833252, grad: [-0.2760541   0.64460295])\n",
      "\t rate: 0.144, aim => [-0.11406685 -0.0512484 ]\n",
      "aim: [-0.11406685 -0.0512484 ] -> (loss: 2.4387047290802, grad: [-0.45397997 -0.61675614])\n",
      "\t rate: 0.142, aim => [-0.04955146  0.03639922]\n",
      "aim: [-0.04955146  0.03639922] -> (loss: 2.413983106613159, grad: [-0.2813921  0.7584533])\n",
      "\t rate: 0.141, aim => [-0.00996254 -0.07030723]\n",
      "aim: [-0.00996254 -0.07030723] -> (loss: 2.398057222366333, grad: [-0.5033655  -0.34699944])\n",
      "\t rate: 0.139, aim => [ 0.06014754 -0.02197623]\n",
      "aim: [ 0.06014754 -0.02197623] -> (loss: 2.4843366146087646, grad: [ 1.7759287  -0.28631732])\n",
      "\t rate: 0.138, aim => [-0.18473496  0.01750401]\n",
      "aim: [-0.18473496  0.01750401] -> (loss: 2.440483570098877, grad: [-0.3020485  0.6106676])\n",
      "\t rate: 0.137, aim => [-0.14350203 -0.06585878]\n",
      "aim: [-0.14350203 -0.06585878] -> (loss: 2.462193489074707, grad: [-0.4918387 -0.6930291])\n",
      "\t rate: 0.135, aim => [-0.07703209  0.0278012 ]\n",
      "aim: [-0.07703209  0.0278012 ] -> (loss: 2.4154529571533203, grad: [-0.29079157  0.7284109 ])\n",
      "\t rate: 0.134, aim => [-0.03812582 -0.06965607]\n",
      "aim: [-0.03812582 -0.06965607] -> (loss: 2.4119601249694824, grad: [-0.5016785  -0.41997668])\n",
      "\t rate: 0.132, aim => [ 0.02832472 -0.01402747]\n",
      "aim: [ 0.02832472 -0.01402747] -> (loss: 2.4253990650177, grad: [ 1.7805364  -0.30476472])\n",
      "\t rate: 0.131, aim => [-0.20516032  0.02593689]\n",
      "aim: [-0.20516032  0.02593689] -> (loss: 2.4516148567199707, grad: [-0.29282954  0.58833814])\n",
      "\t rate: 0.130, aim => [-0.16714504 -0.05044147]\n",
      "aim: [-0.16714504 -0.05044147] -> (loss: 2.4621927738189697, grad: [-0.45188934 -0.7542932 ])\n",
      "\t rate: 0.129, aim => [-0.10906717  0.04650204]\n",
      "aim: [-0.10906717  0.04650204] -> (loss: 2.4377353191375732, grad: [-0.27034736  0.69338936])\n",
      "\t rate: 0.127, aim => [-0.07466896 -0.04172281]\n",
      "aim: [-0.07466896 -0.04172281] -> (loss: 2.4159164428710938, grad: [-0.42929718 -0.51466787])\n",
      "\t rate: 0.126, aim => [-0.02059266  0.02310719]\n",
      "aim: [-0.02059266  0.02310719] -> (loss: 2.395331859588623, grad: [-0.2959231  0.7901119])\n",
      "\t rate: 0.125, aim => [ 0.01631046 -0.07542378]\n",
      "aim: [ 0.01631046 -0.07542378] -> (loss: 2.4231462478637695, grad: [ 1.7449458  -0.31172928])\n",
      "\t rate: 0.123, aim => [-0.19911711 -0.03693829]\n",
      "aim: [-0.19911711 -0.03693829] -> (loss: 2.465336561203003, grad: [-0.4168996 -0.8371398])\n",
      "\t rate: 0.122, aim => [-0.1481622   0.06537981]\n",
      "aim: [-0.1481622   0.06537981] -> (loss: 2.4605872631073, grad: [-0.24970968  0.6506498 ])\n",
      "\t rate: 0.121, aim => [-0.11794703 -0.0133496 ]\n",
      "aim: [-0.11794703 -0.0133496 ] -> (loss: 2.41671085357666, grad: [-0.35577607 -0.6268105 ])\n",
      "\t rate: 0.120, aim => [-0.07532819  0.06173678]\n",
      "aim: [-0.07532819  0.06173678] -> (loss: 2.43973970413208, grad: [-0.25369224  0.7302738 ])\n",
      "\t rate: 0.119, aim => [-0.04524199 -0.02486879]\n",
      "aim: [-0.04524199 -0.02486879] -> (loss: 2.3958940505981445, grad: [-0.3856248  -0.43841624])\n",
      "\t rate: 0.117, aim => [3.3199787e-05 2.6604507e-02]\n",
      "aim: [3.3199787e-05 2.6604507e-02] -> (loss: 2.3921384811401367, grad: [1.7636375 0.812593 ])\n",
      "\t rate: 0.116, aim => [-0.20496018 -0.06784584]\n",
      "aim: [-0.20496018 -0.06784584] -> (loss: 2.4941141605377197, grad: [-0.4969877 -0.8522804])\n",
      "\t rate: 0.115, aim => [-0.14777133  0.03022687]\n",
      "aim: [-0.14777133  0.03022687] -> (loss: 2.4376022815704346, grad: [-0.28813988  0.6510771 ])\n",
      "\t rate: 0.114, aim => [-0.11494637 -0.04394399]\n",
      "aim: [-0.11494637 -0.04394399] -> (loss: 2.434582233428955, grad: [-0.4350527  -0.61903536])\n",
      "\t rate: 0.113, aim => [-0.06588067  0.02587146]\n",
      "aim: [-0.06588067  0.02587146] -> (loss: 2.410780906677246, grad: [-0.29290098  0.7406018 ])\n",
      "\t rate: 0.112, aim => [-0.03317733 -0.05681912]\n",
      "aim: [-0.03317733 -0.05681912] -> (loss: 2.4042506217956543, grad: [-0.468415   -0.40715402])\n",
      "\t rate: 0.111, aim => [ 0.01859972 -0.01181366]\n",
      "aim: [ 0.01859972 -0.01181366] -> (loss: 2.4073965549468994, grad: [ 1.7818197  -0.31040236])\n",
      "\t rate: 0.109, aim => [-0.17638718  0.02215408]\n",
      "aim: [-0.17638718  0.02215408] -> (loss: 2.4408440589904785, grad: [-0.296965   0.6197935])\n",
      "\t rate: 0.108, aim => [-0.14421487 -0.0449925 ]\n",
      "aim: [-0.14421487 -0.0449925 ] -> (loss: 2.4480440616607666, grad: [-0.43776974 -0.6948763 ])\n",
      "\t rate: 0.107, aim => [-0.09726247  0.02953552]\n",
      "aim: [-0.09726247  0.02953552] -> (loss: 2.422560453414917, grad: [-0.2888956  0.7062946])\n",
      "\t rate: 0.106, aim => [-0.06658722 -0.04545962]\n",
      "aim: [-0.06658722 -0.04545962] -> (loss: 2.414292097091675, grad: [-0.43897992 -0.4937262 ])\n",
      "\t rate: 0.105, aim => [-0.02044196  0.00644052]\n",
      "aim: [-0.02044196  0.00644052] -> (loss: 2.3821160793304443, grad: [-0.31414333  0.7902767 ])\n",
      "\t rate: 0.104, aim => [ 0.01225035 -0.07580207]\n",
      "aim: [ 0.01225035 -0.07580207] -> (loss: 2.416180372238159, grad: [ 1.744726 -0.314083])\n",
      "\t rate: 0.103, aim => [-0.16750428 -0.04344291]\n",
      "aim: [-0.16750428 -0.04344291] -> (loss: 2.4570696353912354, grad: [-0.43375438 -0.75522405])\n",
      "\t rate: 0.102, aim => [-0.12326257  0.03358779]\n",
      "aim: [-0.12326257  0.03358779] -> (loss: 2.432818651199341, grad: [-0.28446543  0.6778707 ])\n",
      "\t rate: 0.101, aim => [-0.09453806 -0.03486167]\n",
      "aim: [-0.09453806 -0.03486167] -> (loss: 2.4205620288848877, grad: [-0.41151854 -0.56615293])\n",
      "\t rate: 0.100, aim => [-0.05339961  0.02173517]\n",
      "aim: [-0.05339961  0.02173517] -> (loss: 2.4040050506591797, grad: [-0.29742298  0.75424635])\n",
      "\t rate: 0.099, aim => [-0.02396434 -0.05291088]\n",
      "aim: [-0.02396434 -0.05291088] -> (loss: 2.398437261581421, grad: [-0.45828778 -0.38328105])\n",
      "\t rate: 0.098, aim => [ 0.02093781 -0.01535775]\n",
      "aim: [ 0.02093781 -0.01535775] -> (loss: 2.4126574993133545, grad: [ 1.7797654  -0.30904683])\n",
      "\t rate: 0.097, aim => [-0.15169635  0.01461926]\n",
      "aim: [-0.15169635  0.01461926] -> (loss: 2.4286386966705322, grad: [-0.30520207  0.6467861 ])\n",
      "\t rate: 0.096, aim => [-0.12238832 -0.04749051]\n",
      "aim: [-0.12238832 -0.04749051] -> (loss: 2.4400837421417236, grad: [-0.44424245 -0.638319  ])\n",
      "\t rate: 0.095, aim => [-0.08015507  0.01319321]\n",
      "aim: [-0.08015507  0.01319321] -> (loss: 2.4057705402374268, grad: [-0.30676118  0.7249968 ])\n",
      "\t rate: 0.094, aim => [-0.05128353 -0.05504156]\n",
      "aim: [-0.05128353 -0.05504156] -> (loss: 2.4119246006011963, grad: [-0.46380898 -0.45407116])\n",
      "\t rate: 0.093, aim => [-0.00806759 -0.01273295]\n",
      "aim: [-0.00806759 -0.01273295] -> (loss: 2.3774077892303467, grad: [-0.35417816 -0.34208933])\n",
      "\t rate: 0.092, aim => [0.02460336 0.01882287]\n",
      "aim: [0.02460336 0.01882287] -> (loss: 2.429327964782715, grad: [1.7709587 0.789476 ])\n",
      "\t rate: 0.091, aim => [-0.13712405 -0.05327361]\n",
      "aim: [-0.13712405 -0.05327361] -> (loss: 2.450542449951172, grad: [-0.45922774 -0.6765024 ])\n",
      "\t rate: 0.090, aim => [-0.09560585  0.00788811]\n",
      "aim: [-0.09560585  0.00788811] -> (loss: 2.4067530632019043, grad: [-0.3125609  0.7081056])\n",
      "\t rate: 0.090, aim => [-0.0676302  -0.05549064]\n",
      "aim: [-0.0676302  -0.05549064] -> (loss: 2.419728994369507, grad: [-0.46497265 -0.49642882])\n",
      "\t rate: 0.089, aim => [-0.02642916 -0.01150228]\n",
      "aim: [-0.02642916 -0.01150228] -> (loss: 2.3834311962127686, grad: [-0.35098946 -0.38966805])\n",
      "\t rate: 0.088, aim => [0.00436086 0.02268077]\n",
      "aim: [0.00436086 0.02268077] -> (loss: 2.3965983390808105, grad: [1.7673292 0.8085214])\n",
      "\t rate: 0.087, aim => [-0.14912507 -0.04753629]\n",
      "aim: [-0.14912507 -0.04753629] -> (loss: 2.451993942260742, grad: [-0.44436097 -0.7075997 ])\n",
      "\t rate: 0.086, aim => [-0.11091989  0.01330157]\n",
      "aim: [-0.11091989  0.01330157] -> (loss: 2.4152824878692627, grad: [-0.30664283  0.69136405])\n",
      "\t rate: 0.085, aim => [-0.08481906 -0.04554597]\n",
      "aim: [-0.08481906 -0.04554597] -> (loss: 2.42234206199646, grad: [-0.43920383 -0.5409689 ])\n",
      "\t rate: 0.084, aim => [-4.7808744e-02  3.9771199e-05]\n",
      "aim: [-4.7808744e-02  3.9771199e-05] -> (loss: 2.3858461380004883, grad: [-0.32114094  0.76035845])\n",
      "\t rate: 0.083, aim => [-0.02101783 -0.06339251]\n",
      "aim: [-0.02101783 -0.06339251] -> (loss: 2.401024341583252, grad: [-0.4854481 -0.3756461])\n",
      "\t rate: 0.083, aim => [ 0.0190753  -0.03236792]\n",
      "aim: [ 0.0190753  -0.03236792] -> (loss: 2.4146182537078857, grad: [ 1.7699051  -0.31012663])\n",
      "\t rate: 0.082, aim => [-0.12563929 -0.00701071]\n",
      "aim: [-0.12563929 -0.00701071] -> (loss: 2.4153478145599365, grad: [-0.3393508  -0.64674294])\n",
      "\t rate: 0.081, aim => [-0.09817006  0.0453408 ]\n",
      "aim: [-0.09817006  0.0453408 ] -> (loss: 2.4339702129364014, grad: [-0.2716168   0.70530224])\n",
      "\t rate: 0.080, aim => [-0.07640353 -0.01117996]\n",
      "aim: [-0.07640353 -0.01117996] -> (loss: 2.400804042816162, grad: [-0.35015407 -0.5191623 ])\n",
      "\t rate: 0.079, aim => [-0.04862386  0.03000807]\n",
      "aim: [-0.04862386  0.03000807] -> (loss: 2.408867597579956, grad: [-0.28837866  0.7594674 ])\n",
      "\t rate: 0.079, aim => [-0.02597396 -0.02964218]\n",
      "aim: [-0.02597396 -0.02964218] -> (loss: 2.3903186321258545, grad: [-0.39799374 -0.3884885 ])\n",
      "\t rate: 0.078, aim => [0.00497275 0.00056544]\n",
      "aim: [0.00497275 0.00056544] -> (loss: 2.379812002182007, grad: [1.788136   0.80794555])\n",
      "\t rate: 0.077, aim => [-0.13267654 -0.06162957]\n",
      "aim: [-0.13267654 -0.06162957] -> (loss: 2.45405650138855, grad: [-0.4808799 -0.664978 ])\n",
      "\t rate: 0.076, aim => [-0.09602896 -0.01095198]\n",
      "aim: [-0.09602896 -0.01095198] -> (loss: 2.407546281814575, grad: [-0.34956324 -0.57001615])\n",
      "\t rate: 0.075, aim => [-0.06965535  0.03205422]\n",
      "aim: [-0.06965535  0.03205422] -> (loss: 2.4164395332336426, grad: [-0.28614184  0.7364752 ])\n",
      "\t rate: 0.075, aim => [-0.0482826  -0.02295522]\n",
      "aim: [-0.0482826  -0.02295522] -> (loss: 2.3962128162384033, grad: [-0.38066632 -0.44629496])\n",
      "\t rate: 0.074, aim => [-0.02013388  0.01004648]\n",
      "aim: [-0.02013388  0.01004648] -> (loss: 2.3848698139190674, grad: [-0.3102013  0.7906133])\n",
      "\t rate: 0.073, aim => [ 0.00257486 -0.04783153]\n"
     ]
    }
   ],
   "execution_count": 443
  },
  {
   "metadata": {
    "ExecuteTime": {
     "end_time": "2025-05-23T20:34:55.844964Z",
     "start_time": "2025-05-23T20:34:55.631032Z"
    }
   },
   "cell_type": "code",
   "source": [
    "import plotly.graph_objects as go\n",
    "import jax.numpy as jnp\n",
    "import numpy as np\n",
    "\n",
    "# Ensure coarse_canvas and target_coarse are defined from previous cells.\n",
    "# Also, the translation_loss function and its dependencies (make_4_shifted_patches, get_array_slice)\n",
    "# and constants (BORDER_COARSE_EXTENT, PATCH_COARSE_HEIGHT, PATCH_COARSE_WIDTH)\n",
    "# must be in scope.\n",
    "\n",
    "# Define the range for dx and dy\n",
    "dx_vals = np.arange(-1.0, 1.01, 0.1)  # Using 1.01 to ensure 1.0 is included\n",
    "dy_vals = np.arange(-1.0, 1.01, 0.1)\n",
    "\n",
    "# Initialize an array to store the Z values (loss)\n",
    "# Z_loss_values[i, j] will store loss for dy_vals[i] and dx_vals[j]\n",
    "Z_loss_values = np.zeros((len(dy_vals), len(dx_vals)))\n",
    "\n",
    "# Calculate the loss for each combination of dx and dy\n",
    "print(\"Calculating loss values for the 3D Plotly plot (this may take a moment)...\")\n",
    "for i in range(len(dy_vals)):\n",
    "    for j in range(len(dx_vals)):\n",
    "        dy_val = dy_vals[i]\n",
    "        dx_val = dx_vals[j]\n",
    "        current_shifts = jnp.array([dy_val, dx_val])\n",
    "        loss = translation_loss(coarse_canvas, target_coarse, current_shifts)\n",
    "        Z_loss_values[i, j] = float(loss)\n",
    "print(\"Calculation complete.\")\n",
    "\n",
    "# Create the 3D surface plot using Plotly\n",
    "# For go.Surface:\n",
    "# - z is the 2D array of height values.\n",
    "# - x is a 1D array corresponding to the columns of z.\n",
    "# - y is a 1D array corresponding to the rows of z.\n",
    "fig = go.Figure(data=[go.Surface(z=Z_loss_values, x=dx_vals, y=dy_vals, colorscale='Viridis')])\n",
    "\n",
    "# Update layout for titles and axis labels\n",
    "fig.update_layout(\n",
    "    title='3D Surface Plot of Translation Loss (Plotly)',\n",
    "    scene=dict(\n",
    "        xaxis_title='dx (shift component)',\n",
    "        yaxis_title='dy (shift component)',\n",
    "        zaxis_title='Translation Loss'\n",
    "    ),\n",
    "    autosize=False,\n",
    "    width=800,\n",
    "    height=700,\n",
    "    margin=dict(l=65, r=50, b=65, t=90)\n",
    ")\n",
    "\n",
    "fig.show()"
   ],
   "id": "bc1201628dd4956f",
   "outputs": [
    {
     "name": "stdout",
     "output_type": "stream",
     "text": [
      "Calculating loss values for the 3D Plotly plot (this may take a moment)...\n",
      "Calculation complete.\n"
     ]
    },
    {
     "data": {
      "application/vnd.plotly.v1+json": {
       "data": [
        {
         "colorscale": [
          [
           0.0,
           "#440154"
          ],
          [
           0.1111111111111111,
           "#482878"
          ],
          [
           0.2222222222222222,
           "#3e4989"
          ],
          [
           0.3333333333333333,
           "#31688e"
          ],
          [
           0.4444444444444444,
           "#26828e"
          ],
          [
           0.5555555555555556,
           "#1f9e89"
          ],
          [
           0.6666666666666666,
           "#35b779"
          ],
          [
           0.7777777777777778,
           "#6ece58"
          ],
          [
           0.8888888888888888,
           "#b5de2b"
          ],
          [
           1.0,
           "#fde725"
          ]
         ],
         "x": {
          "dtype": "f8",
          "bdata": "AAAAAAAA8L/NzMzMzMzsv5qZmZmZmem/Z2ZmZmZm5r80MzMzMzPjvwEAAAAAAOC/nJmZmZmZ2b82MzMzMzPTv6CZmZmZmcm/qJmZmZmZub8AAAAAAACwvICZmZmZmbk/kJmZmZmZyT8wMzMzMzPTP5SZmZmZmdk/+P//////3z8wMzMzMzPjP2RmZmZmZuY/lpmZmZmZ6T/IzMzMzMzsP/z//////+8/"
         },
         "y": {
          "dtype": "f8",
          "bdata": "AAAAAAAA8L/NzMzMzMzsv5qZmZmZmem/Z2ZmZmZm5r80MzMzMzPjvwEAAAAAAOC/nJmZmZmZ2b82MzMzMzPTv6CZmZmZmcm/qJmZmZmZub8AAAAAAACwvICZmZmZmbk/kJmZmZmZyT8wMzMzMzPTP5SZmZmZmdk/+P//////3z8wMzMzMzPjP2RmZmZmZuY/lpmZmZmZ6T/IzMzMzMzsP/z//////+8/"
         },
         "z": {
          "dtype": "f8",
          "bdata": "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",
          "shape": "21, 21"
         },
         "type": "surface"
        }
       ],
       "layout": {
        "template": {
         "data": {
          "histogram2dcontour": [
           {
            "type": "histogram2dcontour",
            "colorbar": {
             "outlinewidth": 0,
             "ticks": ""
            },
            "colorscale": [
             [
              0.0,
              "#0d0887"
             ],
             [
              0.1111111111111111,
              "#46039f"
             ],
             [
              0.2222222222222222,
              "#7201a8"
             ],
             [
              0.3333333333333333,
              "#9c179e"
             ],
             [
              0.4444444444444444,
              "#bd3786"
             ],
             [
              0.5555555555555556,
              "#d8576b"
             ],
             [
              0.6666666666666666,
              "#ed7953"
             ],
             [
              0.7777777777777778,
              "#fb9f3a"
             ],
             [
              0.8888888888888888,
              "#fdca26"
             ],
             [
              1.0,
              "#f0f921"
             ]
            ]
           }
          ],
          "choropleth": [
           {
            "type": "choropleth",
            "colorbar": {
             "outlinewidth": 0,
             "ticks": ""
            }
           }
          ],
          "histogram2d": [
           {
            "type": "histogram2d",
            "colorbar": {
             "outlinewidth": 0,
             "ticks": ""
            },
            "colorscale": [
             [
              0.0,
              "#0d0887"
             ],
             [
              0.1111111111111111,
              "#46039f"
             ],
             [
              0.2222222222222222,
              "#7201a8"
             ],
             [
              0.3333333333333333,
              "#9c179e"
             ],
             [
              0.4444444444444444,
              "#bd3786"
             ],
             [
              0.5555555555555556,
              "#d8576b"
             ],
             [
              0.6666666666666666,
              "#ed7953"
             ],
             [
              0.7777777777777778,
              "#fb9f3a"
             ],
             [
              0.8888888888888888,
              "#fdca26"
             ],
             [
              1.0,
              "#f0f921"
             ]
            ]
           }
          ],
          "heatmap": [
           {
            "type": "heatmap",
            "colorbar": {
             "outlinewidth": 0,
             "ticks": ""
            },
            "colorscale": [
             [
              0.0,
              "#0d0887"
             ],
             [
              0.1111111111111111,
              "#46039f"
             ],
             [
              0.2222222222222222,
              "#7201a8"
             ],
             [
              0.3333333333333333,
              "#9c179e"
             ],
             [
              0.4444444444444444,
              "#bd3786"
             ],
             [
              0.5555555555555556,
              "#d8576b"
             ],
             [
              0.6666666666666666,
              "#ed7953"
             ],
             [
              0.7777777777777778,
              "#fb9f3a"
             ],
             [
              0.8888888888888888,
              "#fdca26"
             ],
             [
              1.0,
              "#f0f921"
             ]
            ]
           }
          ],
          "contourcarpet": [
           {
            "type": "contourcarpet",
            "colorbar": {
             "outlinewidth": 0,
             "ticks": ""
            }
           }
          ],
          "contour": [
           {
            "type": "contour",
            "colorbar": {
             "outlinewidth": 0,
             "ticks": ""
            },
            "colorscale": [
             [
              0.0,
              "#0d0887"
             ],
             [
              0.1111111111111111,
              "#46039f"
             ],
             [
              0.2222222222222222,
              "#7201a8"
             ],
             [
              0.3333333333333333,
              "#9c179e"
             ],
             [
              0.4444444444444444,
              "#bd3786"
             ],
             [
              0.5555555555555556,
              "#d8576b"
             ],
             [
              0.6666666666666666,
              "#ed7953"
             ],
             [
              0.7777777777777778,
              "#fb9f3a"
             ],
             [
              0.8888888888888888,
              "#fdca26"
             ],
             [
              1.0,
              "#f0f921"
             ]
            ]
           }
          ],
          "surface": [
           {
            "type": "surface",
            "colorbar": {
             "outlinewidth": 0,
             "ticks": ""
            },
            "colorscale": [
             [
              0.0,
              "#0d0887"
             ],
             [
              0.1111111111111111,
              "#46039f"
             ],
             [
              0.2222222222222222,
              "#7201a8"
             ],
             [
              0.3333333333333333,
              "#9c179e"
             ],
             [
              0.4444444444444444,
              "#bd3786"
             ],
             [
              0.5555555555555556,
              "#d8576b"
             ],
             [
              0.6666666666666666,
              "#ed7953"
             ],
             [
              0.7777777777777778,
              "#fb9f3a"
             ],
             [
              0.8888888888888888,
              "#fdca26"
             ],
             [
              1.0,
              "#f0f921"
             ]
            ]
           }
          ],
          "mesh3d": [
           {
            "type": "mesh3d",
            "colorbar": {
             "outlinewidth": 0,
             "ticks": ""
            }
           }
          ],
          "scatter": [
           {
            "marker": {
             "line": {
              "color": "#283442"
             }
            },
            "type": "scatter"
           }
          ],
          "parcoords": [
           {
            "type": "parcoords",
            "line": {
             "colorbar": {
              "outlinewidth": 0,
              "ticks": ""
             }
            }
           }
          ],
          "scatterpolargl": [
           {
            "type": "scatterpolargl",
            "marker": {
             "colorbar": {
              "outlinewidth": 0,
              "ticks": ""
             }
            }
           }
          ],
          "bar": [
           {
            "error_x": {
             "color": "#f2f5fa"
            },
            "error_y": {
             "color": "#f2f5fa"
            },
            "marker": {
             "line": {
              "color": "rgb(17,17,17)",
              "width": 0.5
             },
             "pattern": {
              "fillmode": "overlay",
              "size": 10,
              "solidity": 0.2
             }
            },
            "type": "bar"
           }
          ],
          "scattergeo": [
           {
            "type": "scattergeo",
            "marker": {
             "colorbar": {
              "outlinewidth": 0,
              "ticks": ""
             }
            }
           }
          ],
          "scatterpolar": [
           {
            "type": "scatterpolar",
            "marker": {
             "colorbar": {
              "outlinewidth": 0,
              "ticks": ""
             }
            }
           }
          ],
          "histogram": [
           {
            "marker": {
             "pattern": {
              "fillmode": "overlay",
              "size": 10,
              "solidity": 0.2
             }
            },
            "type": "histogram"
           }
          ],
          "scattergl": [
           {
            "marker": {
             "line": {
              "color": "#283442"
             }
            },
            "type": "scattergl"
           }
          ],
          "scatter3d": [
           {
            "type": "scatter3d",
            "line": {
             "colorbar": {
              "outlinewidth": 0,
              "ticks": ""
             }
            },
            "marker": {
             "colorbar": {
              "outlinewidth": 0,
              "ticks": ""
             }
            }
           }
          ],
          "scattermap": [
           {
            "type": "scattermap",
            "marker": {
             "colorbar": {
              "outlinewidth": 0,
              "ticks": ""
             }
            }
           }
          ],
          "scattermapbox": [
           {
            "type": "scattermapbox",
            "marker": {
             "colorbar": {
              "outlinewidth": 0,
              "ticks": ""
             }
            }
           }
          ],
          "scatterternary": [
           {
            "type": "scatterternary",
            "marker": {
             "colorbar": {
              "outlinewidth": 0,
              "ticks": ""
             }
            }
           }
          ],
          "scattercarpet": [
           {
            "type": "scattercarpet",
            "marker": {
             "colorbar": {
              "outlinewidth": 0,
              "ticks": ""
             }
            }
           }
          ],
          "carpet": [
           {
            "aaxis": {
             "endlinecolor": "#A2B1C6",
             "gridcolor": "#506784",
             "linecolor": "#506784",
             "minorgridcolor": "#506784",
             "startlinecolor": "#A2B1C6"
            },
            "baxis": {
             "endlinecolor": "#A2B1C6",
             "gridcolor": "#506784",
             "linecolor": "#506784",
             "minorgridcolor": "#506784",
             "startlinecolor": "#A2B1C6"
            },
            "type": "carpet"
           }
          ],
          "table": [
           {
            "cells": {
             "fill": {
              "color": "#506784"
             },
             "line": {
              "color": "rgb(17,17,17)"
             }
            },
            "header": {
             "fill": {
              "color": "#2a3f5f"
             },
             "line": {
              "color": "rgb(17,17,17)"
             }
            },
            "type": "table"
           }
          ],
          "barpolar": [
           {
            "marker": {
             "line": {
              "color": "rgb(17,17,17)",
              "width": 0.5
             },
             "pattern": {
              "fillmode": "overlay",
              "size": 10,
              "solidity": 0.2
             }
            },
            "type": "barpolar"
           }
          ],
          "pie": [
           {
            "automargin": true,
            "type": "pie"
           }
          ]
         },
         "layout": {
          "autotypenumbers": "strict",
          "colorway": [
           "#636efa",
           "#EF553B",
           "#00cc96",
           "#ab63fa",
           "#FFA15A",
           "#19d3f3",
           "#FF6692",
           "#B6E880",
           "#FF97FF",
           "#FECB52"
          ],
          "font": {
           "color": "#f2f5fa"
          },
          "hovermode": "closest",
          "hoverlabel": {
           "align": "left"
          },
          "paper_bgcolor": "rgb(17,17,17)",
          "plot_bgcolor": "rgb(17,17,17)",
          "polar": {
           "bgcolor": "rgb(17,17,17)",
           "angularaxis": {
            "gridcolor": "#506784",
            "linecolor": "#506784",
            "ticks": ""
           },
           "radialaxis": {
            "gridcolor": "#506784",
            "linecolor": "#506784",
            "ticks": ""
           }
          },
          "ternary": {
           "bgcolor": "rgb(17,17,17)",
           "aaxis": {
            "gridcolor": "#506784",
            "linecolor": "#506784",
            "ticks": ""
           },
           "baxis": {
            "gridcolor": "#506784",
            "linecolor": "#506784",
            "ticks": ""
           },
           "caxis": {
            "gridcolor": "#506784",
            "linecolor": "#506784",
            "ticks": ""
           }
          },
          "coloraxis": {
           "colorbar": {
            "outlinewidth": 0,
            "ticks": ""
           }
          },
          "colorscale": {
           "sequential": [
            [
             0.0,
             "#0d0887"
            ],
            [
             0.1111111111111111,
             "#46039f"
            ],
            [
             0.2222222222222222,
             "#7201a8"
            ],
            [
             0.3333333333333333,
             "#9c179e"
            ],
            [
             0.4444444444444444,
             "#bd3786"
            ],
            [
             0.5555555555555556,
             "#d8576b"
            ],
            [
             0.6666666666666666,
             "#ed7953"
            ],
            [
             0.7777777777777778,
             "#fb9f3a"
            ],
            [
             0.8888888888888888,
             "#fdca26"
            ],
            [
             1.0,
             "#f0f921"
            ]
           ],
           "sequentialminus": [
            [
             0.0,
             "#0d0887"
            ],
            [
             0.1111111111111111,
             "#46039f"
            ],
            [
             0.2222222222222222,
             "#7201a8"
            ],
            [
             0.3333333333333333,
             "#9c179e"
            ],
            [
             0.4444444444444444,
             "#bd3786"
            ],
            [
             0.5555555555555556,
             "#d8576b"
            ],
            [
             0.6666666666666666,
             "#ed7953"
            ],
            [
             0.7777777777777778,
             "#fb9f3a"
            ],
            [
             0.8888888888888888,
             "#fdca26"
            ],
            [
             1.0,
             "#f0f921"
            ]
           ],
           "diverging": [
            [
             0,
             "#8e0152"
            ],
            [
             0.1,
             "#c51b7d"
            ],
            [
             0.2,
             "#de77ae"
            ],
            [
             0.3,
             "#f1b6da"
            ],
            [
             0.4,
             "#fde0ef"
            ],
            [
             0.5,
             "#f7f7f7"
            ],
            [
             0.6,
             "#e6f5d0"
            ],
            [
             0.7,
             "#b8e186"
            ],
            [
             0.8,
             "#7fbc41"
            ],
            [
             0.9,
             "#4d9221"
            ],
            [
             1,
             "#276419"
            ]
           ]
          },
          "xaxis": {
           "gridcolor": "#283442",
           "linecolor": "#506784",
           "ticks": "",
           "title": {
            "standoff": 15
           },
           "zerolinecolor": "#283442",
           "automargin": true,
           "zerolinewidth": 2
          },
          "yaxis": {
           "gridcolor": "#283442",
           "linecolor": "#506784",
           "ticks": "",
           "title": {
            "standoff": 15
           },
           "zerolinecolor": "#283442",
           "automargin": true,
           "zerolinewidth": 2
          },
          "scene": {
           "xaxis": {
            "backgroundcolor": "rgb(17,17,17)",
            "gridcolor": "#506784",
            "linecolor": "#506784",
            "showbackground": true,
            "ticks": "",
            "zerolinecolor": "#C8D4E3",
            "gridwidth": 2
           },
           "yaxis": {
            "backgroundcolor": "rgb(17,17,17)",
            "gridcolor": "#506784",
            "linecolor": "#506784",
            "showbackground": true,
            "ticks": "",
            "zerolinecolor": "#C8D4E3",
            "gridwidth": 2
           },
           "zaxis": {
            "backgroundcolor": "rgb(17,17,17)",
            "gridcolor": "#506784",
            "linecolor": "#506784",
            "showbackground": true,
            "ticks": "",
            "zerolinecolor": "#C8D4E3",
            "gridwidth": 2
           }
          },
          "shapedefaults": {
           "line": {
            "color": "#f2f5fa"
           }
          },
          "annotationdefaults": {
           "arrowcolor": "#f2f5fa",
           "arrowhead": 0,
           "arrowwidth": 1
          },
          "geo": {
           "bgcolor": "rgb(17,17,17)",
           "landcolor": "rgb(17,17,17)",
           "subunitcolor": "#506784",
           "showland": true,
           "showlakes": true,
           "lakecolor": "rgb(17,17,17)"
          },
          "title": {
           "x": 0.05
          },
          "updatemenudefaults": {
           "bgcolor": "#506784",
           "borderwidth": 0
          },
          "sliderdefaults": {
           "bgcolor": "#C8D4E3",
           "borderwidth": 1,
           "bordercolor": "rgb(17,17,17)",
           "tickwidth": 0
          },
          "mapbox": {
           "style": "dark"
          }
         }
        },
        "margin": {
         "l": 65,
         "r": 50,
         "b": 65,
         "t": 90
        },
        "title": {
         "text": "3D Surface Plot of Translation Loss (Plotly)"
        },
        "scene": {
         "xaxis": {
          "title": {
           "text": "dx (shift component)"
          }
         },
         "yaxis": {
          "title": {
           "text": "dy (shift component)"
          }
         },
         "zaxis": {
          "title": {
           "text": "Translation Loss"
          }
         }
        },
        "autosize": false,
        "width": 800,
        "height": 700
       },
       "config": {
        "plotlyServerURL": "https://plot.ly"
       }
      }
     },
     "metadata": {},
     "output_type": "display_data"
    }
   ],
   "execution_count": 7
  }
 ],
 "metadata": {
  "kernelspec": {
   "display_name": "Python 3",
   "language": "python",
   "name": "python3"
  },
  "language_info": {
   "codemirror_mode": {
    "name": "ipython",
    "version": 2
   },
   "file_extension": ".py",
   "mimetype": "text/x-python",
   "name": "python",
   "nbconvert_exporter": "python",
   "pygments_lexer": "ipython2",
   "version": "2.7.6"
  }
 },
 "nbformat": 4,
 "nbformat_minor": 5
}

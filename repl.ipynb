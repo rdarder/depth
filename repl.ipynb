{
 "cells": [
  {
   "metadata": {
    "ExecuteTime": {
     "end_time": "2025-06-21T18:15:18.422893Z",
     "start_time": "2025-06-21T18:15:18.239006Z"
    }
   },
   "cell_type": "code",
   "source": [
    "import jax\n",
    "import jax.numpy as jnp\n",
    "from jax import lax, vmap\n",
    "\n",
    "@jax.jit\n",
    "def apply_shifted_interpolation_patch_alternative(patch_data, dx, dy):\n",
    "    # patch_data: (H, W, C)\n",
    "    H, W, C = patch_data.shape\n",
    "\n",
    "    # --- Horizontal Convolution ---\n",
    "    # Reshape input: (H, W, C) -> (H * C, W, 1) to treat each row of each channel as a batch item\n",
    "    lhs_x_reshaped = patch_data.transpose(0, 2, 1).reshape(H * C, W, 1) # (H, C, W) -> (H*C, W, 1)\n",
    "\n",
    "    # Kernel for 1D conv: (kernel_width, in_channels, out_channels)\n",
    "    # Here, in_channels=1, out_channels=1 for the reshaped input\n",
    "    rhs_x_1d = kernel_x_coeffs[:, None, None] # Shape (2, 1, 1)\n",
    "\n",
    "    # Dimension numbers for (N, Spatial, C) input and (Spatial, InC, OutC) kernel\n",
    "    # N is H*C, Spatial is W, C is 1\n",
    "    dimension_numbers_1d = ('NWC', 'WIO', 'NWC')\n",
    "\n",
    "    intermediate_x_reshaped = lax.conv_general_dilated(\n",
    "        lhs=lhs_x_reshaped,\n",
    "        rhs=rhs_x_1d,\n",
    "        window_strides=(1,), # 1D stride\n",
    "        padding='VALID',\n",
    "        dimension_numbers=dimension_numbers_1d,\n",
    "        feature_group_count=1 # Standard conv on this 1-channel group\n",
    "    ) # Output shape: (H * C, W-1, 1)\n",
    "\n",
    "    # Reshape back to (H, W-1, C)\n",
    "    intermediate_x = intermediate_x_reshaped.reshape(H, C, W-1).transpose(0, 2, 1) # (H, C, W-1) -> (H, W-1, C)\n",
    "\n",
    "\n",
    "    # --- Vertical Convolution ---\n",
    "    # Reshape input: (H, W-1, C) -> (W-1 * C, H, 1)\n",
    "    lhs_y_reshaped = intermediate_x.transpose(1, 2, 0).reshape((W-1) * C, H, 1) # (W-1, C, H) -> ((W-1)*C, H, 1)\n",
    "\n",
    "    # Kernel for 1D conv: (kernel_height, in_channels, out_channels)\n",
    "    rhs_y_1d = kernel_y_coeffs[:, None, None] # Shape (2, 1, 1)\n",
    "\n",
    "    output_reshaped = lax.conv_general_dilated(\n",
    "        lhs=lhs_y_reshaped,\n",
    "        rhs=rhs_y_1d,\n",
    "        window_strides=(1,), # 1D stride\n",
    "        padding='VALID',\n",
    "        dimension_numbers=dimension_numbers_1d, # NWC still works, N=(W-1)*C, Spatial=H, C=1\n",
    "        feature_group_count=1\n",
    "    ) # Output shape: ((W-1) * C, H-1, 1)\n",
    "\n",
    "    # Reshape back to (H-1, W-1, C)\n",
    "    final_output = output_reshaped.reshape(W-1, C, H-1).transpose(2, 0, 1) # (W-1, C, H-1) -> (H-1, W-1, C)\n",
    "\n",
    "    return final_output\n",
    "\n",
    "# --- Example Usage (same as before) ---\n",
    "num_patches = 2\n",
    "patch_size = 4\n",
    "in_channels = 3\n",
    "\n",
    "patches_data_batch = jnp.arange(num_patches * patch_size * patch_size * in_channels, dtype=jnp.float32).reshape(num_patches, patch_size, patch_size, in_channels)\n",
    "dx_batch = jnp.array([0.2, 0.7])\n",
    "dy_batch = jnp.array([0.3, 0.8])\n",
    "\n",
    "interpolated_patches_batch_alt = vmap(apply_shifted_interpolation_patch_alternative, in_axes=(0, 0, 0))(\n",
    "    patches_data_batch, dx_batch, dy_batch\n",
    ")\n",
    "\n",
    "print(\"Input patch shape (single):\", patches_data_batch[0].shape)\n",
    "print(\"Output interpolated patch shape (single, alternative):\", interpolated_patches_batch_alt[0].shape)\n",
    "print(\"Batch output shape (alternative):\", interpolated_patches_batch_alt.shape)\n",
    "\n",
    "# Verify results are identical\n",
    "# print(jnp.allclose(interpolated_patches_batch, interpolated_patches_batch_alt)) # Should be True"
   ],
   "id": "931281ac85e804f2",
   "outputs": [
    {
     "name": "stdout",
     "output_type": "stream",
     "text": [
      "Input patch shape (single): (4, 4, 3)\n",
      "Output interpolated patch shape (single): (3, 3, 3)\n",
      "Batch output shape: (2, 3, 3, 3)\n"
     ]
    }
   ],
   "execution_count": 45
  }
 ],
 "metadata": {
  "kernelspec": {
   "display_name": "Python 3",
   "language": "python",
   "name": "python3"
  },
  "language_info": {
   "codemirror_mode": {
    "name": "ipython",
    "version": 2
   },
   "file_extension": ".py",
   "mimetype": "text/x-python",
   "name": "python",
   "nbconvert_exporter": "python",
   "pygments_lexer": "ipython2",
   "version": "2.7.6"
  }
 },
 "nbformat": 4,
 "nbformat_minor": 5
}
